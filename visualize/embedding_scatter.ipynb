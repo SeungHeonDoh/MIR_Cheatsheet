{
 "cells": [
  {
   "cell_type": "code",
   "execution_count": 2,
   "id": "145b9ab8",
   "metadata": {},
   "outputs": [],
   "source": [
    "import os\n",
    "import torch\n",
    "import matplotlib.pyplot as plt\n",
    "import numpy as np\n",
    "import pandas as pd"
   ]
  },
  {
   "cell_type": "code",
   "execution_count": 3,
   "id": "f69a7804",
   "metadata": {
    "scrolled": false
   },
   "outputs": [],
   "source": [
    "def embedding_viz(audio_x, audio_y, track_x, track_y, artist_x, artist_y, tag_x, tag_y):\n",
    "    plt.figure(figsize=(15, 15), dpi=300)\n",
    "    plt.scatter(audio_x, audio_y, marker=\".\", color=\"lime\",alpha=0.01, s=40, linewidths=1, label=\"audio\")\n",
    "    plt.scatter(track_x, track_y, marker=\"o\", color=\"gold\",alpha=0.5, s=30, linewidths=1, label=\"track\")\n",
    "    plt.scatter(artist_x, artist_y, marker=\"o\", color=\"magenta\", alpha=0.1, s=30, linewidths=1, label=\"artist\")\n",
    "    plt.scatter(tag_x, tag_y, marker=\"o\", color=\"blue\", alpha=0.4, s=30, linewidths=1, label=\"tag\")\n",
    "\n",
    "    plt.xlim((np.min(x_axis)-2, np.max(x_axis)+2))\n",
    "    plt.ylim((np.min(y_axis)-2, np.max(y_axis)+2))\n",
    "    plt.legend(scatterpoints=1)\n",
    "    plt.xlabel(\"$x$\")\n",
    "    plt.ylabel(\"$y$\")\n",
    "    plt.tight_layout()\n",
    "    plt.savefig(os.path.join(\"./embeddings/track_audio\",fname.replace(\".pt\",\".png\")), dpi=300)\n",
    "    plt.show()"
   ]
  },
  {
   "cell_type": "code",
   "execution_count": null,
   "id": "62878461",
   "metadata": {},
   "outputs": [],
   "source": []
  }
 ],
 "metadata": {
  "kernelspec": {
   "display_name": "Python 3",
   "language": "python",
   "name": "python3"
  },
  "language_info": {
   "codemirror_mode": {
    "name": "ipython",
    "version": 3
   },
   "file_extension": ".py",
   "mimetype": "text/x-python",
   "name": "python",
   "nbconvert_exporter": "python",
   "pygments_lexer": "ipython3",
   "version": "3.6.9"
  }
 },
 "nbformat": 4,
 "nbformat_minor": 5
}
